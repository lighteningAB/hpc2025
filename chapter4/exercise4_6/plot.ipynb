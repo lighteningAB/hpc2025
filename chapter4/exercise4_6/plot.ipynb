{
 "cells": [
  {
   "cell_type": "code",
   "execution_count": null,
   "metadata": {},
   "outputs": [],
   "source": [
    "import numpy as np\n",
    "import matplotlib.pyplot as plt\n",
    "import seaborn as sns\n",
    "\n",
    "# Load data\n",
    "data = np.loadtxt(\"vector_evolution.csv\", delimiter=\",\")\n",
    "\n",
    "# Get dimensions\n",
    "num_steps, num_points = data.shape\n",
    "\n",
    "# Create x-axis (evenly spaced points)\n",
    "x = np.arange(num_points)\n",
    "\n",
    "# Create a colormap\n",
    "colors = sns.color_palette(\"coolwarm\", num_steps)\n",
    "\n",
    "plt.figure(figsize=(8, 6))\n",
    "\n",
    "# Plot each time step with color gradient\n",
    "for i in range(num_steps):\n",
    "    plt.plot(x, data[i], color=colors[i], alpha=0.7)\n",
    "\n",
    "# Labels\n",
    "plt.xlabel(\"Index of Vector\")\n",
    "plt.ylabel(\"Value\")\n",
    "plt.title(\"Evolution of Vector Over Time\")\n",
    "\n",
    "# Color bar\n",
    "sm = plt.cm.ScalarMappable(cmap=\"coolwarm\", norm=plt.Normalize(vmin=0, vmax=num_steps))\n",
    "plt.colorbar(sm, label=\"Iteration Step\")\n",
    "\n",
    "plt.show()"
   ]
  }
 ],
 "metadata": {
  "kernelspec": {
   "display_name": "sharpy",
   "language": "python",
   "name": "python3"
  },
  "language_info": {
   "name": "python",
   "version": "3.10.15"
  }
 },
 "nbformat": 4,
 "nbformat_minor": 2
}
